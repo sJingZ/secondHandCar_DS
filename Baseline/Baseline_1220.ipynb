{
 "cells": [
  {
   "cell_type": "code",
   "execution_count": null,
   "id": "bc837bd0",
   "metadata": {},
   "outputs": [],
   "source": [
    "import numpy as np\n",
    "import pandas as pd\n",
    "import warnings\n",
    "import matplotlib\n",
    "import matplotlib.pyplot as plt\n",
    "import seaborn as sns\n",
    "from scipy.special import jn\n",
    "from IPython.display import display, clear_output\n",
    "import time\n",
    "\n",
    "warnings.filterwarnings('ignore')\n",
    "%matplotlib inline\n",
    "\n",
    "## 模型预测的\n",
    "from sklearn import linear_model\n",
    "from sklearn import preprocessing\n",
    "from sklearn.svm import SVR\n",
    "from sklearn.ensemble import RandomForestRegressor,GradientBoostingRegressor\n",
    "\n",
    "## 数据降维处理的\n",
    "from sklearn.decomposition import PCA,FastICA,FactorAnalysis,SparsePCA\n",
    "\n",
    "import lightgbm as lgb\n",
    "from lightgbm import LGBMRegressor\n",
    "import xgboost as xgb\n",
    "\n",
    "## 参数搜索和评价的\n",
    "from sklearn.model_selection import GridSearchCV,cross_val_score,StratifiedKFold,train_test_split, RepeatedKFold\n",
    "\n",
    "from sklearn.metrics import mean_squared_error, mean_absolute_error"
   ]
  },
  {
   "cell_type": "code",
   "execution_count": null,
   "id": "6baca90b",
   "metadata": {},
   "outputs": [],
   "source": [
    "pd.set_option(\"display.max_columns\", None)"
   ]
  },
  {
   "cell_type": "markdown",
   "id": "ea4f1bf9",
   "metadata": {},
   "source": [
    "# Read in data"
   ]
  },
  {
   "cell_type": "code",
   "execution_count": null,
   "id": "3bbf77e0",
   "metadata": {},
   "outputs": [],
   "source": [
    "Train_data = pd.read_csv('used_car_train_20200313.csv', sep=' ')\n",
    "Test_data = pd.read_csv('used_car_testB_20200421.csv', sep=' ')"
   ]
  },
  {
   "cell_type": "code",
   "execution_count": null,
   "id": "abdaa7bf",
   "metadata": {},
   "outputs": [],
   "source": [
    "Train_data.head().T"
   ]
  },
  {
   "cell_type": "markdown",
   "id": "d1ba6f5e",
   "metadata": {},
   "source": [
    "# Data Preprocessing"
   ]
  },
  {
   "cell_type": "code",
   "execution_count": null,
   "id": "dd87e813",
   "metadata": {},
   "outputs": [],
   "source": [
    "Train_data['notRepairedDamage'] = Train_data['notRepairedDamage'].replace('-',np.nan)\n",
    "Train_data['notRepairedDamage'].value_counts()"
   ]
  },
  {
   "cell_type": "code",
   "execution_count": null,
   "id": "26eece85",
   "metadata": {},
   "outputs": [],
   "source": [
    "X = Train_data.drop(['price', 'SaleID', 'name'], axis = 'columns')\n",
    "Y = Train_data['price']"
   ]
  },
  {
   "cell_type": "code",
   "execution_count": null,
   "id": "7ce98e49",
   "metadata": {},
   "outputs": [],
   "source": [
    "X.notRepairedDamage = X.notRepairedDamage.astype('float')"
   ]
  },
  {
   "cell_type": "code",
   "execution_count": null,
   "id": "24e26a85",
   "metadata": {},
   "outputs": [],
   "source": [
    "X_train, X_test, y_train, y_test = train_test_split(\n",
    "                                    X, Y, \n",
    "                                    test_size=0.2,\n",
    "                                    shuffle=True,\n",
    "                                    random_state=100)\n",
    "cv = RepeatedKFold(n_splits=10, n_repeats=3, random_state=1)"
   ]
  },
  {
   "cell_type": "markdown",
   "id": "8cd0e0e7",
   "metadata": {},
   "source": [
    "# Model Building\n",
    "1. LGBM model\n",
    "2. XGB model\n",
    "3. Stacking 2 models"
   ]
  },
  {
   "cell_type": "code",
   "execution_count": null,
   "id": "e2919bd6",
   "metadata": {},
   "outputs": [],
   "source": [
    "# LGBM model\n",
    "model_1 = LGBMRegressor()\n",
    "model_1.fit(X_train, y_train)"
   ]
  },
  {
   "cell_type": "code",
   "execution_count": null,
   "id": "9e4f2719",
   "metadata": {},
   "outputs": [],
   "source": [
    "# Train data\n",
    "y_train_1 = model_1.predict(X_train)    \n",
    "n_scores = cross_val_score(model_1, X_train, y_train, scoring='neg_mean_absolute_error', cv=cv, n_jobs=-1, error_score='raise')\n",
    "print('MAE for train: %.3f (%.3f)' % (np.mean(n_scores), np.std(n_scores)))\n",
    "\n",
    "\n",
    "# Test data\n",
    "y_test_1 = model_1.predict(X_test)\n",
    "n_scores = cross_val_score(model_1, X_test, y_test, scoring='neg_mean_absolute_error', cv=cv, n_jobs=-1, error_score='raise')\n",
    "print('MAE for test: %.3f (%.3f)' % (np.mean(n_scores), np.std(n_scores)))"
   ]
  },
  {
   "cell_type": "code",
   "execution_count": null,
   "id": "3b121c24",
   "metadata": {},
   "outputs": [],
   "source": [
    "# XGB model\n",
    "model_2 = xgb.XGBRegressor()\n",
    "model_2.fit(X_train, y_train)"
   ]
  },
  {
   "cell_type": "code",
   "execution_count": null,
   "id": "bbcf257f",
   "metadata": {},
   "outputs": [],
   "source": [
    "# Train data\n",
    "y_train_2 = model_2.predict(X_train)    \n",
    "n_scores = cross_val_score(model_2, X_train, y_train, scoring='neg_mean_absolute_error', n_jobs=-1, error_score='raise')\n",
    "print('MAE for train: %.3f (%.3f)' % (np.mean(n_scores), np.std(n_scores)))\n",
    "\n",
    "\n",
    "# Test data\n",
    "y_test_2 = model_2.predict(X_test)\n",
    "n_scores = cross_val_score(model_2, X_test, y_test, scoring='neg_mean_absolute_error', n_jobs=-1, error_score='raise')\n",
    "print('MAE for test: %.3f (%.3f)' % (np.mean(n_scores), np.std(n_scores)))"
   ]
  },
  {
   "cell_type": "code",
   "execution_count": null,
   "id": "db804c5f",
   "metadata": {},
   "outputs": [],
   "source": [
    "def Weighted_method(test_pre1,test_pre2,w=[1/2,1/2]):\n",
    "    Weighted_result = w[0]*pd.Series(test_pre1)+w[1]*pd.Series(test_pre2)\n",
    "    return Weighted_result"
   ]
  },
  {
   "cell_type": "code",
   "execution_count": null,
   "id": "005343e9",
   "metadata": {},
   "outputs": [],
   "source": [
    "# Stacking 2 models\n",
    "print('MAE for train data...')\n",
    "val_pre_train = Weighted_method(y_train_1,y_train_2)\n",
    "MAE_Weighted = mean_absolute_error(y_train,val_pre_train)\n",
    "print('MAE of Weighted of val:',MAE_Weighted)\n",
    "\n",
    "print('MAE for test data...')\n",
    "val_pre_test = Weighted_method(y_test_1,y_test_2)\n",
    "MAE_Weighted = mean_absolute_error(y_test,val_pre_test)\n",
    "print('MAE of Weighted of val:',MAE_Weighted)"
   ]
  },
  {
   "cell_type": "markdown",
   "id": "e5ccd188",
   "metadata": {},
   "source": [
    "# Create submission data"
   ]
  },
  {
   "cell_type": "code",
   "execution_count": null,
   "id": "dd798754",
   "metadata": {},
   "outputs": [],
   "source": [
    "X_test_sub  = Test_data.drop(['SaleID', 'name'], axis = 'columns')\n",
    "X_test_sub['notRepairedDamage'] = X_test_sub['notRepairedDamage'].replace('-',np.nan).astype('float')"
   ]
  },
  {
   "cell_type": "code",
   "execution_count": null,
   "id": "38e05afb",
   "metadata": {},
   "outputs": [],
   "source": [
    "y_sub_1 = model_1.predict(X_test_sub)\n",
    "y_sub_2 = model_2.predict(X_test_sub)"
   ]
  },
  {
   "cell_type": "code",
   "execution_count": null,
   "id": "984d75fe",
   "metadata": {},
   "outputs": [],
   "source": [
    "sub_pred = Weighted_method(y_sub_1,y_sub_2)\n",
    "sub = pd.DataFrame()\n",
    "sub['SaleID'] = X_test_sub.index\n",
    "sub['price'] = sub_pred\n",
    "sub.to_csv('./sub_Weighted_baseline.csv',index=False)"
   ]
  }
 ],
 "metadata": {
  "kernelspec": {
   "display_name": "Python 3 (ipykernel)",
   "language": "python",
   "name": "python3"
  },
  "language_info": {
   "codemirror_mode": {
    "name": "ipython",
    "version": 3
   },
   "file_extension": ".py",
   "mimetype": "text/x-python",
   "name": "python",
   "nbconvert_exporter": "python",
   "pygments_lexer": "ipython3",
   "version": "3.9.7"
  }
 },
 "nbformat": 4,
 "nbformat_minor": 5
}
